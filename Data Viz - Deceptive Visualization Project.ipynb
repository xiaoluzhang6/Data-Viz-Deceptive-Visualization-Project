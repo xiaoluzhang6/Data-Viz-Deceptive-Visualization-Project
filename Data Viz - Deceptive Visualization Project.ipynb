{
 "cells": [
  {
   "cell_type": "markdown",
   "metadata": {},
   "source": [
    "# Preventing Gun Violence with Improved Gun Regulations in the USA<br>\n",
    "\n",
    "Arguments:<br>\n",
    "(1): Increase in gun regulations will decrease number of death by guns<br>\n",
    "(2): The level of gun regulations has little to do with number of gun violence/deaths; increase in number                 of regulations will have inverse effect on gun crimes.<br>\n",
    "\n",
    "Audience: General public living in the 50 states; political parties on both sides of the argument; the NRA (National Rifle Association)<br>\n",
    "\n",
    "Metrics: Number of death by firearms under different levels of firearm regulations acceptance rate; gun deaths under different circumstances (mass shooting, suicide, homicide etc.)<br>\n",
    "\n",
    "*Plan of Action:*<br>\n",
    "-> Need to compare data across states<br>\n",
    "-> Compare absolute values vs. normalized values<br>\n",
    "-> Compare effects of regulations on death rates<br>\n",
    "-> Explain outliers (social/economic conditions)\n",
    "\n"
   ]
  },
  {
   "cell_type": "code",
   "execution_count": 3,
   "metadata": {
    "ExecuteTime": {
     "end_time": "2017-11-16T01:49:38.042113Z",
     "start_time": "2017-11-16T01:49:37.928333Z"
    }
   },
   "outputs": [],
   "source": [
    "import pandas as pd\n",
    "# load data\n",
    "df = pd.read_csv('regulations_data.csv', delimiter=',')\n",
    "\n"
   ]
  },
  {
   "cell_type": "code",
   "execution_count": 18,
   "metadata": {
    "ExecuteTime": {
     "end_time": "2017-11-16T05:57:50.271497Z",
     "start_time": "2017-11-16T05:57:50.250676Z"
    }
   },
   "outputs": [],
   "source": [
    "df1 = df[['state','year','lawtotal']]\n",
    "df1.insert(3, 'Total', 133)\n",
    "df1.insert(4, 'Constant', 100)\n",
    "\n"
   ]
  },
  {
   "cell_type": "code",
   "execution_count": 20,
   "metadata": {
    "ExecuteTime": {
     "end_time": "2017-11-16T06:00:09.248525Z",
     "start_time": "2017-11-16T06:00:09.091424Z"
    }
   },
   "outputs": [
    {
     "name": "stderr",
     "output_type": "stream",
     "text": [
      "/usr/local/lib/python3.6/site-packages/ipykernel_launcher.py:1: SettingWithCopyWarning: \n",
      "A value is trying to be set on a copy of a slice from a DataFrame.\n",
      "Try using .loc[row_indexer,col_indexer] = value instead\n",
      "\n",
      "See the caveats in the documentation: http://pandas.pydata.org/pandas-docs/stable/indexing.html#indexing-view-versus-copy\n",
      "  \"\"\"Entry point for launching an IPython kernel.\n"
     ]
    }
   ],
   "source": [
    "df1['% Acceptance Rate'] = (df1['lawtotal'] / df1['Total'])*df1['Constant']\n",
    "df1.to_csv('acceptanceRate.csv')\n"
   ]
  },
  {
   "cell_type": "markdown",
   "metadata": {},
   "source": [
    "*This Acceptance rate table is used in combination with deaths rate from firearms table (see source (9))to create the first visualization; note that only 2015 data is used from both tables. Full state names have also been converted to symbols on the Acceptance table in order to join with death data table on Tableau (VLOOKUP method on excel).*<br><br>\n",
    "<img src=\"files/images/deceptive1.png\"><br><br>\n",
    "\n",
    "\n"
   ]
  },
  {
   "cell_type": "code",
   "execution_count": 56,
   "metadata": {
    "ExecuteTime": {
     "end_time": "2017-11-17T22:02:32.003547Z",
     "start_time": "2017-11-17T22:02:31.817177Z"
    },
    "scrolled": true
   },
   "outputs": [
    {
     "name": "stderr",
     "output_type": "stream",
     "text": [
      "/usr/local/lib/python3.6/site-packages/pandas/core/frame.py:2746: SettingWithCopyWarning: \n",
      "A value is trying to be set on a copy of a slice from a DataFrame\n",
      "\n",
      "See the caveats in the documentation: http://pandas.pydata.org/pandas-docs/stable/indexing.html#indexing-view-versus-copy\n",
      "  **kwargs)\n"
     ]
    }
   ],
   "source": [
    "# load & modify Regulation Acceptance Rate table; took difference between data for 2005 and 2015 and found the change\n",
    "# in %.\n",
    "import pandas as pd\n",
    "df2 = pd.read_csv('acceptanceRate.csv', delimiter=',')\n",
    "\n",
    "df3 = df2[(df2.year == 2005)]\n",
    "rate05 = df3[['State Symbols','Constant','% Acceptance Rate']]\n",
    "rate05.rename(columns={'% Acceptance Rate': '2005 Acceptance Rate'}, inplace=True)\n",
    "\n",
    "rate15 = df2[(df2.year == 2015)]\n",
    "rate15 = rate15[['State Symbols','% Acceptance Rate']]\n",
    "rate15.rename(columns={'% Acceptance Rate': '2015 Acceptance Rate'}, inplace=True)\n",
    "\n",
    "joined = rate05.merge(rate15, left_on='State Symbols', right_on='State Symbols')\n",
    "joined['acceptance change rate'] = (joined['2015 Acceptance Rate'] - joined['2005 Acceptance Rate']) \\\n",
    "/(joined['2005 Acceptance Rate'])*(joined['Constant'])\n",
    "valuesorted = joined.sort_values('acceptance change rate')\n",
    "valuesorted.to_csv('changeRate.csv')\n"
   ]
  },
  {
   "cell_type": "code",
   "execution_count": 55,
   "metadata": {
    "ExecuteTime": {
     "end_time": "2017-11-17T22:02:26.198367Z",
     "start_time": "2017-11-17T22:02:26.118576Z"
    }
   },
   "outputs": [],
   "source": [
    "# Load in Death Rate table; calculated change in % for death rates between 2005 and 2015\n",
    "death05 = pd.read_csv('firearms2005.csv', delimiter=',')\n",
    "death15 = pd.read_csv('firearms2015.csv', delimiter=',')\n",
    "death05.rename(columns={'RATE': '2005 RATE'}, inplace=True)\n",
    "death15.rename(columns={'RATE': '2015 RATE'}, inplace=True)\n",
    "merged = death05.merge(death15, left_on='STATE', right_on='STATE')\n",
    "merged.insert(7, 'Constant', 100)\n",
    "merged['change in deaths rate'] = (merged['2015 RATE'] - merged['2005 RATE']) \\\n",
    "/(merged['2005 RATE'])*(merged['Constant'])\n",
    "deathsByRate = merged[['STATE','change in deaths rate']]\n",
    "deathsByRate.to_csv('deathsByRate.csv')\n",
    "deathsByRate = deathsByRate.sort_values('change in deaths rate')\n"
   ]
  },
  {
   "cell_type": "markdown",
   "metadata": {},
   "source": [
    "A second visualization was created on Tableau based on the modified data tables from above"
   ]
  },
  {
   "cell_type": "markdown",
   "metadata": {},
   "source": [
    "## Sources <br>\n",
    "**Research:**<br>\n",
    "1)Gun Violence in US:https://www.vox.com/2015/10/3/9444417/gun-violence-united-states-america <br>\n",
    "2)Gun Laws: https://www.nraila.org/gun-laws/<br>\n",
    "3)Second Amendment & Supporting Info: https://www.nraila.org/second-amendment/<br>\n",
    "4)Harvard Public Health Firearms Research: https://www.hsph.harvard.edu/hicrc/firearms-research/<br>\n",
    "5)US Gun Violence Viz: https://www.theguardian.com/us-news/2017/oct/05/us-gun-violence-charts-data<br>\n",
    "6)US Gun Violence Problem: https://www.npr.org/2017/10/07/556405496/americas-unique-gun-violence-problem<br>\n",
    "7)Gun Myths Shot Down: http://www.motherjones.com/politics/2013/01/pro-gun-myths-fact-check/#<br>\n",
    "\n",
    "**Data:**<br>\n",
    "8)Gun Violence Database on Kaggle: https://www.kaggle.com/gunviolencearchive/gun-violence-database<br>\n",
    "9)CDC Firearm Mortality by State: https://www.cdc.gov/nchs/pressroom/sosmap/firearm_mortality/firearm.htm<br>\n",
    "\n",
    "**Technical Help:**<br>\n",
    "10)Firearm Regulations in the US(process): https://www.kaggle.com/jonathanbouchet/firearm-regulations-in-the-u-s/notebook<br>\n",
    "11)Multi-layered Maps on Tableau: https://www.youtube.com/watch?v=bwUj2NZHTC4&t=269s<br>\n",
    "12)Show Alaska & Hawaii near Continent: http://kb.tableau.com/articles/howto/showing-hawaii-and-alaska-near-continental-us<br>"
   ]
  }
 ],
 "metadata": {
  "kernelspec": {
   "display_name": "Python 3",
   "language": "python",
   "name": "python3"
  },
  "language_info": {
   "codemirror_mode": {
    "name": "ipython",
    "version": 3
   },
   "file_extension": ".py",
   "mimetype": "text/x-python",
   "name": "python",
   "nbconvert_exporter": "python",
   "pygments_lexer": "ipython3",
   "version": "3.6.2"
  },
  "toc": {
   "nav_menu": {},
   "number_sections": true,
   "sideBar": true,
   "skip_h1_title": false,
   "toc_cell": false,
   "toc_position": {},
   "toc_section_display": "block",
   "toc_window_display": false
  },
  "varInspector": {
   "cols": {
    "lenName": 16,
    "lenType": 16,
    "lenVar": 40
   },
   "kernels_config": {
    "python": {
     "delete_cmd_postfix": "",
     "delete_cmd_prefix": "del ",
     "library": "var_list.py",
     "varRefreshCmd": "print(var_dic_list())"
    },
    "r": {
     "delete_cmd_postfix": ") ",
     "delete_cmd_prefix": "rm(",
     "library": "var_list.r",
     "varRefreshCmd": "cat(var_dic_list()) "
    }
   },
   "types_to_exclude": [
    "module",
    "function",
    "builtin_function_or_method",
    "instance",
    "_Feature"
   ],
   "window_display": false
  }
 },
 "nbformat": 4,
 "nbformat_minor": 2
}
